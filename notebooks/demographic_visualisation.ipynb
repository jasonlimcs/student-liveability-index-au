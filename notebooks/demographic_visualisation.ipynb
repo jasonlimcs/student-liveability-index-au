{
 "cells": [
  {
   "cell_type": "code",
   "execution_count": null,
   "id": "8e60e882",
   "metadata": {},
   "outputs": [],
   "source": [
    "import pandas as pd\n",
    "import geopandas as gpd\n",
    "import folium\n",
    "from folium.features import GeoJsonTooltip\n",
    "import numpy as np\n"
   ]
  },
  {
   "cell_type": "code",
   "execution_count": null,
   "id": "7480f532",
   "metadata": {},
   "outputs": [],
   "source": [
    "demographics = pd.read_csv(\"../data/processed/abs_demographics_merged.csv\")\n",
    "gdf_sa2 = gpd.read_file(\"../data/external/SA2_2021_AUST_GDA2020.shp\")\n",
    "gdf_sa2 = gdf_sa2[['SA2_CODE21', 'geometry']]\n",
    "gdf_sa2.columns = ['sa2_code', 'geometry']"
   ]
  },
  {
   "cell_type": "code",
   "execution_count": null,
   "id": "5fe65f45",
   "metadata": {},
   "outputs": [],
   "source": [
    "gdf_sa2['sa2_code'] = gdf_sa2['sa2_code'].astype(str)\n",
    "demographics['sa2_code'] = demographics['sa2_code'].astype(str)\n",
    "gdf = gdf_sa2.merge(demographics, on='sa2_code', how='inner')\n",
    "gdf = gdf.replace([np.inf, -np.inf], np.nan).dropna()\n",
    "gdf = gdf.to_crs(epsg=4326)\n",
    "gdf"
   ]
  },
  {
   "cell_type": "code",
   "execution_count": null,
   "id": "387dcc33",
   "metadata": {},
   "outputs": [],
   "source": [
    "m = folium.Map(location=[-37.81, 144.96], zoom_start=10, tiles=\"cartodbpositron\")"
   ]
  },
  {
   "cell_type": "code",
   "execution_count": null,
   "id": "2f7bad6e",
   "metadata": {},
   "outputs": [],
   "source": [
    "# -------------------------------\n",
    "# Choose a Variable to Visualize\n",
    "# -------------------------------\n",
    "# metric = 'rent_to_income_ratio'\n",
    "metric = 'pct_students'\n",
    "tooltip_fields = ['sa2_code', 'median_weekly_rent', 'median_weekly_income', 'rent_to_income_ratio']\n",
    "\n",
    "# Add Choropleth Layer\n",
    "folium.Choropleth(\n",
    "    geo_data=gdf,\n",
    "    name='Rent to Income Ratio',\n",
    "    data=gdf,\n",
    "    columns=['sa2_code', metric],\n",
    "    key_on='feature.properties.sa2_code',\n",
    "    fill_color='YlOrRd',\n",
    "    fill_opacity=0.7,\n",
    "    line_opacity=0.2,\n",
    "    nan_fill_color='gray',\n",
    "    legend_name='Rent to Income Ratio'\n",
    ").add_to(m)\n",
    "\n",
    "# Add Interactive Tooltip\n",
    "folium.GeoJson(\n",
    "    gdf,\n",
    "    name='Suburb Info',\n",
    "    style_function=lambda x: {'fillColor': 'transparent', 'color': 'transparent'},\n",
    "    tooltip=GeoJsonTooltip(fields=tooltip_fields)\n",
    ").add_to(m)\n",
    "\n",
    "# Show Map\n",
    "m"
   ]
  },
  {
   "cell_type": "code",
   "execution_count": null,
   "id": "826d8870",
   "metadata": {},
   "outputs": [],
   "source": []
  },
  {
   "cell_type": "code",
   "execution_count": null,
   "id": "2e55c0ee",
   "metadata": {},
   "outputs": [],
   "source": []
  }
 ],
 "metadata": {
  "kernelspec": {
   "display_name": "Python 3",
   "language": "python",
   "name": "python3"
  },
  "language_info": {
   "codemirror_mode": {
    "name": "ipython",
    "version": 3
   },
   "file_extension": ".py",
   "mimetype": "text/x-python",
   "name": "python",
   "nbconvert_exporter": "python",
   "pygments_lexer": "ipython3",
   "version": "3.11.3"
  }
 },
 "nbformat": 4,
 "nbformat_minor": 5
}
